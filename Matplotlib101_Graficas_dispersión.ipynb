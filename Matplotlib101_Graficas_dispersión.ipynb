{
  "nbformat": 4,
  "nbformat_minor": 0,
  "metadata": {
    "colab": {
      "name": "Matplot101-Graficas dispersión.ipynb",
      "provenance": [],
      "authorship_tag": "ABX9TyMFeZDxuOaR3x3yFaGm8K+Y",
      "include_colab_link": true
    },
    "kernelspec": {
      "name": "python3",
      "display_name": "Python 3"
    },
    "language_info": {
      "name": "python"
    }
  },
  "cells": [
    {
      "cell_type": "markdown",
      "metadata": {
        "id": "view-in-github",
        "colab_type": "text"
      },
      "source": [
        "<a href=\"https://colab.research.google.com/github/oniprograma/Matplotlib101/blob/main/Matplotlib101_Graficas_dispersi%C3%B3n.ipynb\" target=\"_parent\"><img src=\"https://colab.research.google.com/assets/colab-badge.svg\" alt=\"Open In Colab\"/></a>"
      ]
    },
    {
      "cell_type": "code",
      "execution_count": null,
      "metadata": {
        "colab": {
          "base_uri": "https://localhost:8080/",
          "height": 327
        },
        "id": "I_-vcCojN-0a",
        "outputId": "67e79250-04f9-48ea-ba56-9ca75b863052"
      },
      "outputs": [
        {
          "output_type": "execute_result",
          "data": {
            "text/plain": [
              "Text(0.5, 1.0, 'Mi primer grafica de dispersión \\nDatos crudos')"
            ]
          },
          "metadata": {},
          "execution_count": 1
        },
        {
          "output_type": "display_data",
          "data": {
            "text/plain": [
              "<Figure size 432x288 with 1 Axes>"
            ],
            "image/png": "[encoded data removed]"
          },
          "metadata": {
            "needs_background": "light"
          }
        }
      ],
      "source": [
        "import matplotlib.pyplot as plt\n",
        "x = [1,2,3,4,5,6]\n",
        "y = [10,3,5,8,1,4]\n",
        "plt.scatter(x,y,label=\"puntos\",color=\"r\",s=25,marker=\"o\")\n",
        "plt.xlabel(\"x\")\n",
        "plt.ylabel(\"y\")\n",
        "plt.legend()\n",
        "plt.title(\"Mi primer grafica de dispersión \\nDatos crudos\")"
      ]
    },
    {
      "cell_type": "code",
      "source": [
        "import matplotlib.pyplot as plt\n",
        "\n",
        "# height and weight data\n",
        "height = [167, 175, 170, 186, 190, 188, 158, 169, 183, 180]\n",
        "weight = [65, 70, 72, 80, 86, 94, 50, 58, 78, 85]\n",
        "\n",
        "# plot a scatter plot\n",
        "plt.scatter(weight, height)\n",
        "# set axis lables\n",
        "plt.xlabel(\"Weight (Kg)\")\n",
        "plt.ylabel(\"Height (cm)\")\n",
        "# set chart title\n",
        "plt.title(\"Height v/s Weight\")\n",
        "plt.show()"
      ],
      "metadata": {
        "id": "raiz2S1KIJx8"
      },
      "execution_count": null,
      "outputs": []
    },
    {
      "cell_type": "code",
      "source": [
        "import matplotlib.pyplot as plt\n",
        "x = [1,2,3,4,5,6]\n",
        "y = [10,3,5,8,1,4]\n",
        "\n",
        "nuevo_x = [i+1 for i in x] #agregando 1 a la lista \"x\"\n",
        "nuevo_y = [i+1 for i in y] #agregando 1 a la lista \"y\"\n",
        "\n",
        "plt.scatter(x,y,label=\"estrellas\",color=\"b\",s=200,marker=\"*\") \n",
        "plt.scatter(nuevo_x,nuevo_y,label=\"triangulos\",color=\"r\",s=200,marker=\"v\")\n",
        "plt.xlabel(\"x\")\n",
        "plt.ylabel(\"y\")\n",
        "plt.legend()\n",
        "plt.title(\"Gráfica de dispersión\")"
      ],
      "metadata": {
        "id": "3xneZ87FOhcg",
        "outputId": "6a9e9878-d427-4758-e3a7-183f5f9b0990",
        "colab": {
          "base_uri": "https://localhost:8080/",
          "height": 312
        }
      },
      "execution_count": null,
      "outputs": [
        {
          "output_type": "execute_result",
          "data": {
            "text/plain": [
              "Text(0.5, 1.0, 'Gráfica de dispersión')"
            ]
          },
          "metadata": {},
          "execution_count": 2
        },
        {
          "output_type": "display_data",
          "data": {
            "text/plain": [
              "<Figure size 432x288 with 1 Axes>"
            ],
            "image/png": "[encoded data removed]"
          },
          "metadata": {
            "needs_background": "light"
          }
        }
      ]
    }
  ]
}